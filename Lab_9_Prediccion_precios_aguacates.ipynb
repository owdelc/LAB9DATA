{
  "cells": [
    {
      "cell_type": "markdown",
      "metadata": {
        "id": "view-in-github",
        "colab_type": "text"
      },
      "source": [
        "<a href=\"https://colab.research.google.com/github/owdelc/LAB9DATA/blob/main/Lab_9_Prediccion_precios_aguacates.ipynb\" target=\"_parent\"><img src=\"https://colab.research.google.com/assets/colab-badge.svg\" alt=\"Open In Colab\"/></a>"
      ]
    },
    {
      "cell_type": "markdown",
      "metadata": {
        "id": "EOjS3v0HOmBs"
      },
      "source": [
        "# PREDICCION DE PRECIOS DE AGUACATE EN EEUU\n",
        "\n",
        "\n",
        "\n"
      ]
    },
    {
      "cell_type": "markdown",
      "metadata": {
        "id": "jT6h5XpKOmBz"
      },
      "source": [
        "# Enunciado del Problema"
      ]
    },
    {
      "cell_type": "markdown",
      "metadata": {
        "id": "GZymruE1OmB0"
      },
      "source": [
        "- Los datos representan ventas semanales desde 2015 a 2018 a nivel de todos los EEUU. \n",
        "- Los datos provienen directamente de las cajas registradoras basados en ventas de aguacate variedad Hass. \n",
        "- El precio promedio de los aguacates reflejan el costo por unidad, aún cuando estos se vendan por bolsas. \n",
        "- Los códigos (Product Lookup codes ó PLU) en la tabla son solo de aguacates Hass.  No se incluyen otras variedades.\n",
        "\n",
        "Columnas relevantes en el conjunto de datos:\n",
        "\n",
        "- Date - la fecha de la observación\n",
        "- AveragePrice - el precio promedio de una unidad\n",
        "- type - convencional u orgánico\n",
        "- year - el año\n",
        "- Region - la ciudad o región de la observación\n",
        "- Total Volume - número total de aguacates vendidos\n",
        "- 4046 - número total de aguacates con PLU 4046 vendidos\n",
        "- 4225 - número total de aguacates con PLU 4225 vendidos\n",
        "- 4770 - número total de aguacates con PLU 4770 vendidos\n",
        "\n"
      ]
    },
    {
      "cell_type": "markdown",
      "metadata": {
        "id": "wGwQthQ2OmB2"
      },
      "source": [
        "# Importar las librerías"
      ]
    },
    {
      "cell_type": "code",
      "execution_count": 52,
      "metadata": {
        "tags": [],
        "id": "4KYhollJOmB3"
      },
      "outputs": [],
      "source": [
        "import numpy as np\n",
        "import pandas as pd\n",
        "import matplotlib.pyplot as plt\n",
        "import prophet\n",
        "import seaborn as sns"
      ]
    },
    {
      "cell_type": "markdown",
      "metadata": {
        "id": "CimVXNj5OmB5"
      },
      "source": [
        "# Carga de datos"
      ]
    },
    {
      "cell_type": "code",
      "execution_count": 12,
      "metadata": {
        "id": "z-dpu0HOOmB6"
      },
      "outputs": [],
      "source": [
        "aguacates = pd.read_csv(\"aguacates_EEUU.csv\")"
      ]
    },
    {
      "cell_type": "markdown",
      "metadata": {
        "id": "sKGz1WSyOmB7"
      },
      "source": [
        "# Explorar el conjunto de datos  "
      ]
    },
    {
      "cell_type": "code",
      "execution_count": 13,
      "metadata": {
        "colab": {
          "base_uri": "https://localhost:8080/"
        },
        "id": "8qOPmjaaOmB9",
        "outputId": "eab72bd9-afc6-45b3-d483-1c5597a25f0b"
      },
      "outputs": [
        {
          "output_type": "execute_result",
          "data": {
            "text/plain": [
              "Index(['Unnamed: 0', 'Date', 'AveragePrice', 'Total Volume', '4046', '4225',\n",
              "       '4770', 'Total Bags', 'Small Bags', 'Large Bags', 'XLarge Bags', 'type',\n",
              "       'year', 'region'],\n",
              "      dtype='object')"
            ]
          },
          "metadata": {},
          "execution_count": 13
        }
      ],
      "source": [
        "aguacates.columns"
      ]
    },
    {
      "cell_type": "code",
      "source": [
        "aguacates.shape"
      ],
      "metadata": {
        "colab": {
          "base_uri": "https://localhost:8080/"
        },
        "id": "cXtwz9rWP1Ie",
        "outputId": "e6adf7ff-6d20-44a9-d5f0-205cd865c6db"
      },
      "execution_count": 14,
      "outputs": [
        {
          "output_type": "execute_result",
          "data": {
            "text/plain": [
              "(18249, 14)"
            ]
          },
          "metadata": {},
          "execution_count": 14
        }
      ]
    },
    {
      "cell_type": "code",
      "execution_count": 15,
      "metadata": {
        "colab": {
          "base_uri": "https://localhost:8080/"
        },
        "id": "uwHhGTDXOmB9",
        "outputId": "f8b44b89-80a3-408b-8696-75adf9bae593"
      },
      "outputs": [
        {
          "output_type": "stream",
          "name": "stdout",
          "text": [
            "<class 'pandas.core.frame.DataFrame'>\n",
            "RangeIndex: 18249 entries, 0 to 18248\n",
            "Data columns (total 14 columns):\n",
            " #   Column        Non-Null Count  Dtype  \n",
            "---  ------        --------------  -----  \n",
            " 0   Unnamed: 0    18249 non-null  int64  \n",
            " 1   Date          18249 non-null  object \n",
            " 2   AveragePrice  18249 non-null  float64\n",
            " 3   Total Volume  18249 non-null  float64\n",
            " 4   4046          18249 non-null  float64\n",
            " 5   4225          18249 non-null  float64\n",
            " 6   4770          18249 non-null  float64\n",
            " 7   Total Bags    18249 non-null  float64\n",
            " 8   Small Bags    18249 non-null  float64\n",
            " 9   Large Bags    18249 non-null  float64\n",
            " 10  XLarge Bags   18249 non-null  float64\n",
            " 11  type          18249 non-null  object \n",
            " 12  year          18249 non-null  int64  \n",
            " 13  region        18249 non-null  object \n",
            "dtypes: float64(9), int64(2), object(3)\n",
            "memory usage: 1.9+ MB\n"
          ]
        }
      ],
      "source": [
        "aguacates.info()"
      ]
    },
    {
      "cell_type": "code",
      "source": [
        "aguacates.isnull().values.any()"
      ],
      "metadata": {
        "colab": {
          "base_uri": "https://localhost:8080/"
        },
        "id": "RiUbKD-kPm2d",
        "outputId": "9d4fa3ba-1a5f-43b6-ed83-2578ac699ebe"
      },
      "execution_count": 16,
      "outputs": [
        {
          "output_type": "execute_result",
          "data": {
            "text/plain": [
              "False"
            ]
          },
          "metadata": {},
          "execution_count": 16
        }
      ]
    },
    {
      "cell_type": "markdown",
      "metadata": {
        "id": "LWhie_40OmB-"
      },
      "source": [
        "# Asegurar que estén los datos en orden cronológico"
      ]
    },
    {
      "cell_type": "code",
      "execution_count": 17,
      "metadata": {
        "id": "kCoOdU-VOmB_"
      },
      "outputs": [],
      "source": [
        "aguacates['Date'] = pd.to_datetime(aguacates['Date'], format='%Y-%m-%d')"
      ]
    },
    {
      "cell_type": "code",
      "source": [
        "aguacates = aguacates.sort_values(by='Date', ascending=True)\n",
        "aguacates"
      ],
      "metadata": {
        "colab": {
          "base_uri": "https://localhost:8080/",
          "height": 678
        },
        "id": "HsSYoJxsQRyA",
        "outputId": "38a52521-c665-46ff-f6e0-1e134bd85955"
      },
      "execution_count": 18,
      "outputs": [
        {
          "output_type": "execute_result",
          "data": {
            "text/plain": [
              "       Unnamed: 0       Date  AveragePrice  Total Volume        4046  \\\n",
              "11569          51 2015-01-04          1.75      27365.89     9307.34   \n",
              "9593           51 2015-01-04          1.49      17723.17     1189.35   \n",
              "10009          51 2015-01-04          1.68       2896.72      161.68   \n",
              "1819           51 2015-01-04          1.52      54956.80     3013.04   \n",
              "9333           51 2015-01-04          1.64       1505.12        1.27   \n",
              "...           ...        ...           ...           ...         ...   \n",
              "8574            0 2018-03-25          1.36     908202.13   142681.06   \n",
              "9018            0 2018-03-25          0.70    9010588.32  3999735.71   \n",
              "18141           0 2018-03-25          1.42     163496.70    29253.30   \n",
              "17673           0 2018-03-25          1.70     190257.38    29644.09   \n",
              "8814            0 2018-03-25          1.34    1774776.77    63905.98   \n",
              "\n",
              "            4225       4770  Total Bags  Small Bags  Large Bags  XLarge Bags  \\\n",
              "11569    3844.81     615.28    13598.46    13061.10      537.36         0.00   \n",
              "9593    15628.27       0.00      905.55      905.55        0.00         0.00   \n",
              "10009     206.96       0.00     2528.08     2528.08        0.00         0.00   \n",
              "1819    35456.88    1561.70    14925.18    11264.80     3660.38         0.00   \n",
              "9333     1129.50       0.00      374.35      186.67      187.68         0.00   \n",
              "...          ...        ...         ...         ...         ...          ...   \n",
              "8574   463136.28  174975.75   127409.04   103579.41    22467.04      1362.59   \n",
              "9018   966589.50   30130.82  4014132.29  3398569.92   546409.74     69152.63   \n",
              "18141    5080.04       0.00   129163.36   109052.26    20111.10         0.00   \n",
              "17673   70982.10       0.00    89631.19    89424.11      207.08         0.00   \n",
              "8814   908653.71     843.45   801373.63   774634.09    23833.93      2905.61   \n",
              "\n",
              "               type  year              region  \n",
              "11569       organic  2015           Southeast  \n",
              "9593        organic  2015             Chicago  \n",
              "10009       organic  2015  HarrisburgScranton  \n",
              "1819   conventional  2015          Pittsburgh  \n",
              "9333        organic  2015               Boise  \n",
              "...             ...   ...                 ...  \n",
              "8574   conventional  2018             Chicago  \n",
              "9018   conventional  2018        SouthCentral  \n",
              "18141       organic  2018        SouthCentral  \n",
              "17673       organic  2018          California  \n",
              "8814   conventional  2018             NewYork  \n",
              "\n",
              "[18249 rows x 14 columns]"
            ],
            "text/html": [
              "\n",
              "  <div id=\"df-cf45f56b-9a1f-479c-8aad-e507dd252bc5\">\n",
              "    <div class=\"colab-df-container\">\n",
              "      <div>\n",
              "<style scoped>\n",
              "    .dataframe tbody tr th:only-of-type {\n",
              "        vertical-align: middle;\n",
              "    }\n",
              "\n",
              "    .dataframe tbody tr th {\n",
              "        vertical-align: top;\n",
              "    }\n",
              "\n",
              "    .dataframe thead th {\n",
              "        text-align: right;\n",
              "    }\n",
              "</style>\n",
              "<table border=\"1\" class=\"dataframe\">\n",
              "  <thead>\n",
              "    <tr style=\"text-align: right;\">\n",
              "      <th></th>\n",
              "      <th>Unnamed: 0</th>\n",
              "      <th>Date</th>\n",
              "      <th>AveragePrice</th>\n",
              "      <th>Total Volume</th>\n",
              "      <th>4046</th>\n",
              "      <th>4225</th>\n",
              "      <th>4770</th>\n",
              "      <th>Total Bags</th>\n",
              "      <th>Small Bags</th>\n",
              "      <th>Large Bags</th>\n",
              "      <th>XLarge Bags</th>\n",
              "      <th>type</th>\n",
              "      <th>year</th>\n",
              "      <th>region</th>\n",
              "    </tr>\n",
              "  </thead>\n",
              "  <tbody>\n",
              "    <tr>\n",
              "      <th>11569</th>\n",
              "      <td>51</td>\n",
              "      <td>2015-01-04</td>\n",
              "      <td>1.75</td>\n",
              "      <td>27365.89</td>\n",
              "      <td>9307.34</td>\n",
              "      <td>3844.81</td>\n",
              "      <td>615.28</td>\n",
              "      <td>13598.46</td>\n",
              "      <td>13061.10</td>\n",
              "      <td>537.36</td>\n",
              "      <td>0.00</td>\n",
              "      <td>organic</td>\n",
              "      <td>2015</td>\n",
              "      <td>Southeast</td>\n",
              "    </tr>\n",
              "    <tr>\n",
              "      <th>9593</th>\n",
              "      <td>51</td>\n",
              "      <td>2015-01-04</td>\n",
              "      <td>1.49</td>\n",
              "      <td>17723.17</td>\n",
              "      <td>1189.35</td>\n",
              "      <td>15628.27</td>\n",
              "      <td>0.00</td>\n",
              "      <td>905.55</td>\n",
              "      <td>905.55</td>\n",
              "      <td>0.00</td>\n",
              "      <td>0.00</td>\n",
              "      <td>organic</td>\n",
              "      <td>2015</td>\n",
              "      <td>Chicago</td>\n",
              "    </tr>\n",
              "    <tr>\n",
              "      <th>10009</th>\n",
              "      <td>51</td>\n",
              "      <td>2015-01-04</td>\n",
              "      <td>1.68</td>\n",
              "      <td>2896.72</td>\n",
              "      <td>161.68</td>\n",
              "      <td>206.96</td>\n",
              "      <td>0.00</td>\n",
              "      <td>2528.08</td>\n",
              "      <td>2528.08</td>\n",
              "      <td>0.00</td>\n",
              "      <td>0.00</td>\n",
              "      <td>organic</td>\n",
              "      <td>2015</td>\n",
              "      <td>HarrisburgScranton</td>\n",
              "    </tr>\n",
              "    <tr>\n",
              "      <th>1819</th>\n",
              "      <td>51</td>\n",
              "      <td>2015-01-04</td>\n",
              "      <td>1.52</td>\n",
              "      <td>54956.80</td>\n",
              "      <td>3013.04</td>\n",
              "      <td>35456.88</td>\n",
              "      <td>1561.70</td>\n",
              "      <td>14925.18</td>\n",
              "      <td>11264.80</td>\n",
              "      <td>3660.38</td>\n",
              "      <td>0.00</td>\n",
              "      <td>conventional</td>\n",
              "      <td>2015</td>\n",
              "      <td>Pittsburgh</td>\n",
              "    </tr>\n",
              "    <tr>\n",
              "      <th>9333</th>\n",
              "      <td>51</td>\n",
              "      <td>2015-01-04</td>\n",
              "      <td>1.64</td>\n",
              "      <td>1505.12</td>\n",
              "      <td>1.27</td>\n",
              "      <td>1129.50</td>\n",
              "      <td>0.00</td>\n",
              "      <td>374.35</td>\n",
              "      <td>186.67</td>\n",
              "      <td>187.68</td>\n",
              "      <td>0.00</td>\n",
              "      <td>organic</td>\n",
              "      <td>2015</td>\n",
              "      <td>Boise</td>\n",
              "    </tr>\n",
              "    <tr>\n",
              "      <th>...</th>\n",
              "      <td>...</td>\n",
              "      <td>...</td>\n",
              "      <td>...</td>\n",
              "      <td>...</td>\n",
              "      <td>...</td>\n",
              "      <td>...</td>\n",
              "      <td>...</td>\n",
              "      <td>...</td>\n",
              "      <td>...</td>\n",
              "      <td>...</td>\n",
              "      <td>...</td>\n",
              "      <td>...</td>\n",
              "      <td>...</td>\n",
              "      <td>...</td>\n",
              "    </tr>\n",
              "    <tr>\n",
              "      <th>8574</th>\n",
              "      <td>0</td>\n",
              "      <td>2018-03-25</td>\n",
              "      <td>1.36</td>\n",
              "      <td>908202.13</td>\n",
              "      <td>142681.06</td>\n",
              "      <td>463136.28</td>\n",
              "      <td>174975.75</td>\n",
              "      <td>127409.04</td>\n",
              "      <td>103579.41</td>\n",
              "      <td>22467.04</td>\n",
              "      <td>1362.59</td>\n",
              "      <td>conventional</td>\n",
              "      <td>2018</td>\n",
              "      <td>Chicago</td>\n",
              "    </tr>\n",
              "    <tr>\n",
              "      <th>9018</th>\n",
              "      <td>0</td>\n",
              "      <td>2018-03-25</td>\n",
              "      <td>0.70</td>\n",
              "      <td>9010588.32</td>\n",
              "      <td>3999735.71</td>\n",
              "      <td>966589.50</td>\n",
              "      <td>30130.82</td>\n",
              "      <td>4014132.29</td>\n",
              "      <td>3398569.92</td>\n",
              "      <td>546409.74</td>\n",
              "      <td>69152.63</td>\n",
              "      <td>conventional</td>\n",
              "      <td>2018</td>\n",
              "      <td>SouthCentral</td>\n",
              "    </tr>\n",
              "    <tr>\n",
              "      <th>18141</th>\n",
              "      <td>0</td>\n",
              "      <td>2018-03-25</td>\n",
              "      <td>1.42</td>\n",
              "      <td>163496.70</td>\n",
              "      <td>29253.30</td>\n",
              "      <td>5080.04</td>\n",
              "      <td>0.00</td>\n",
              "      <td>129163.36</td>\n",
              "      <td>109052.26</td>\n",
              "      <td>20111.10</td>\n",
              "      <td>0.00</td>\n",
              "      <td>organic</td>\n",
              "      <td>2018</td>\n",
              "      <td>SouthCentral</td>\n",
              "    </tr>\n",
              "    <tr>\n",
              "      <th>17673</th>\n",
              "      <td>0</td>\n",
              "      <td>2018-03-25</td>\n",
              "      <td>1.70</td>\n",
              "      <td>190257.38</td>\n",
              "      <td>29644.09</td>\n",
              "      <td>70982.10</td>\n",
              "      <td>0.00</td>\n",
              "      <td>89631.19</td>\n",
              "      <td>89424.11</td>\n",
              "      <td>207.08</td>\n",
              "      <td>0.00</td>\n",
              "      <td>organic</td>\n",
              "      <td>2018</td>\n",
              "      <td>California</td>\n",
              "    </tr>\n",
              "    <tr>\n",
              "      <th>8814</th>\n",
              "      <td>0</td>\n",
              "      <td>2018-03-25</td>\n",
              "      <td>1.34</td>\n",
              "      <td>1774776.77</td>\n",
              "      <td>63905.98</td>\n",
              "      <td>908653.71</td>\n",
              "      <td>843.45</td>\n",
              "      <td>801373.63</td>\n",
              "      <td>774634.09</td>\n",
              "      <td>23833.93</td>\n",
              "      <td>2905.61</td>\n",
              "      <td>conventional</td>\n",
              "      <td>2018</td>\n",
              "      <td>NewYork</td>\n",
              "    </tr>\n",
              "  </tbody>\n",
              "</table>\n",
              "<p>18249 rows × 14 columns</p>\n",
              "</div>\n",
              "      <button class=\"colab-df-convert\" onclick=\"convertToInteractive('df-cf45f56b-9a1f-479c-8aad-e507dd252bc5')\"\n",
              "              title=\"Convert this dataframe to an interactive table.\"\n",
              "              style=\"display:none;\">\n",
              "        \n",
              "  <svg xmlns=\"http://www.w3.org/2000/svg\" height=\"24px\"viewBox=\"0 0 24 24\"\n",
              "       width=\"24px\">\n",
              "    <path d=\"M0 0h24v24H0V0z\" fill=\"none\"/>\n",
              "    <path d=\"M18.56 5.44l.94 2.06.94-2.06 2.06-.94-2.06-.94-.94-2.06-.94 2.06-2.06.94zm-11 1L8.5 8.5l.94-2.06 2.06-.94-2.06-.94L8.5 2.5l-.94 2.06-2.06.94zm10 10l.94 2.06.94-2.06 2.06-.94-2.06-.94-.94-2.06-.94 2.06-2.06.94z\"/><path d=\"M17.41 7.96l-1.37-1.37c-.4-.4-.92-.59-1.43-.59-.52 0-1.04.2-1.43.59L10.3 9.45l-7.72 7.72c-.78.78-.78 2.05 0 2.83L4 21.41c.39.39.9.59 1.41.59.51 0 1.02-.2 1.41-.59l7.78-7.78 2.81-2.81c.8-.78.8-2.07 0-2.86zM5.41 20L4 18.59l7.72-7.72 1.47 1.35L5.41 20z\"/>\n",
              "  </svg>\n",
              "      </button>\n",
              "      \n",
              "  <style>\n",
              "    .colab-df-container {\n",
              "      display:flex;\n",
              "      flex-wrap:wrap;\n",
              "      gap: 12px;\n",
              "    }\n",
              "\n",
              "    .colab-df-convert {\n",
              "      background-color: #E8F0FE;\n",
              "      border: none;\n",
              "      border-radius: 50%;\n",
              "      cursor: pointer;\n",
              "      display: none;\n",
              "      fill: #1967D2;\n",
              "      height: 32px;\n",
              "      padding: 0 0 0 0;\n",
              "      width: 32px;\n",
              "    }\n",
              "\n",
              "    .colab-df-convert:hover {\n",
              "      background-color: #E2EBFA;\n",
              "      box-shadow: 0px 1px 2px rgba(60, 64, 67, 0.3), 0px 1px 3px 1px rgba(60, 64, 67, 0.15);\n",
              "      fill: #174EA6;\n",
              "    }\n",
              "\n",
              "    [theme=dark] .colab-df-convert {\n",
              "      background-color: #3B4455;\n",
              "      fill: #D2E3FC;\n",
              "    }\n",
              "\n",
              "    [theme=dark] .colab-df-convert:hover {\n",
              "      background-color: #434B5C;\n",
              "      box-shadow: 0px 1px 3px 1px rgba(0, 0, 0, 0.15);\n",
              "      filter: drop-shadow(0px 1px 2px rgba(0, 0, 0, 0.3));\n",
              "      fill: #FFFFFF;\n",
              "    }\n",
              "  </style>\n",
              "\n",
              "      <script>\n",
              "        const buttonEl =\n",
              "          document.querySelector('#df-cf45f56b-9a1f-479c-8aad-e507dd252bc5 button.colab-df-convert');\n",
              "        buttonEl.style.display =\n",
              "          google.colab.kernel.accessAllowed ? 'block' : 'none';\n",
              "\n",
              "        async function convertToInteractive(key) {\n",
              "          const element = document.querySelector('#df-cf45f56b-9a1f-479c-8aad-e507dd252bc5');\n",
              "          const dataTable =\n",
              "            await google.colab.kernel.invokeFunction('convertToInteractive',\n",
              "                                                     [key], {});\n",
              "          if (!dataTable) return;\n",
              "\n",
              "          const docLinkHtml = 'Like what you see? Visit the ' +\n",
              "            '<a target=\"_blank\" href=https://colab.research.google.com/notebooks/data_table.ipynb>data table notebook</a>'\n",
              "            + ' to learn more about interactive tables.';\n",
              "          element.innerHTML = '';\n",
              "          dataTable['output_type'] = 'display_data';\n",
              "          await google.colab.output.renderOutput(dataTable, element);\n",
              "          const docLink = document.createElement('div');\n",
              "          docLink.innerHTML = docLinkHtml;\n",
              "          element.appendChild(docLink);\n",
              "        }\n",
              "      </script>\n",
              "    </div>\n",
              "  </div>\n",
              "  "
            ]
          },
          "metadata": {},
          "execution_count": 18
        }
      ]
    },
    {
      "cell_type": "markdown",
      "metadata": {
        "id": "o_JeOBrgOmB_"
      },
      "source": [
        "\n",
        "# Realizar una gráfica de precios promedio vrs fecha\n",
        "\n",
        "¿Cuál es la tendencia a nivel nacional?"
      ]
    },
    {
      "cell_type": "code",
      "execution_count": 22,
      "metadata": {
        "id": "X5RD7l4pOmCA",
        "colab": {
          "base_uri": "https://localhost:8080/",
          "height": 571
        },
        "outputId": "65a6012a-7d78-4138-ab67-72cb83774ec1"
      },
      "outputs": [
        {
          "output_type": "display_data",
          "data": {
            "text/plain": [
              "<Figure size 720x720 with 1 Axes>"
            ],
            "image/png": "[encoded data removed]"
          },
          "metadata": {
            "needs_background": "light"
          }
        }
      ],
      "source": [
        "ax = aguacates.plot(y='AveragePrice', x='Date', linewidth=0.7, figsize=(10,10))\n",
        "ax.set_ylabel(\"Precio (promedio) de aguacate por mes\")\n",
        "ax.set_xlabel(\"Fecha\")\n",
        "plt.show()"
      ]
    },
    {
      "cell_type": "markdown",
      "metadata": {
        "id": "2bINGZmXOmCB"
      },
      "source": [
        "# Realizar una gráfica de barras para ver el número de regiones"
      ]
    },
    {
      "cell_type": "code",
      "execution_count": 47,
      "metadata": {
        "scrolled": true,
        "id": "tsvsW9DhOmCC",
        "colab": {
          "base_uri": "https://localhost:8080/",
          "height": 712
        },
        "outputId": "9bbda160-75eb-4df5-c397-d235fb61a4d8"
      },
      "outputs": [
        {
          "output_type": "execute_result",
          "data": {
            "text/plain": [
              "<matplotlib.axes._subplots.AxesSubplot at 0x7f499c87c050>"
            ]
          },
          "metadata": {},
          "execution_count": 47
        },
        {
          "output_type": "display_data",
          "data": {
            "text/plain": [
              "<Figure size 2160x2160 with 1 Axes>"
            ],
            "image/png": "[encoded data removed]"
          },
          "metadata": {
            "needs_background": "light"
          }
        }
      ],
      "source": [
        "plt.figure(figsize=(30,30))\n",
        "plt.xticks(rotation=90, size=20)\n",
        "plt.yticks(size=20)\n",
        "sns.countplot(x = 'region', data=aguacates)"
      ]
    },
    {
      "cell_type": "markdown",
      "metadata": {
        "id": "oDr05Z3QOmCD"
      },
      "source": [
        "# Realizar una gráfica de barras para ver de qué años se tiene información"
      ]
    },
    {
      "cell_type": "code",
      "execution_count": 44,
      "metadata": {
        "id": "ejlkHTGlOmCE",
        "colab": {
          "base_uri": "https://localhost:8080/",
          "height": 1000
        },
        "outputId": "b8e8f939-0227-44e4-d88c-6a8271eccaf6"
      },
      "outputs": [
        {
          "output_type": "execute_result",
          "data": {
            "text/plain": [
              "<matplotlib.axes._subplots.AxesSubplot at 0x7f499cc92cd0>"
            ]
          },
          "metadata": {},
          "execution_count": 44
        },
        {
          "output_type": "display_data",
          "data": {
            "text/plain": [
              "<Figure size 2160x2160 with 1 Axes>"
            ],
            "image/png": "[encoded data removed]"
          },
          "metadata": {
            "needs_background": "light"
          }
        }
      ],
      "source": [
        "plt.figure(figsize=(30,30))\n",
        "plt.xticks(rotation=60, size=20)\n",
        "plt.yticks(size=20)\n",
        "sns.countplot(x = 'year', data=aguacates)"
      ]
    },
    {
      "cell_type": "markdown",
      "metadata": {
        "id": "WUg-1mQ4OmCE"
      },
      "source": [
        "# Preparar los datos para que se acoplen a lo que requiere el modelo a utilizar"
      ]
    },
    {
      "cell_type": "code",
      "execution_count": 57,
      "metadata": {
        "id": "_MnkwBeaOmCF",
        "colab": {
          "base_uri": "https://localhost:8080/",
          "height": 424
        },
        "outputId": "f0fba221-3c6a-4926-8b54-1d50e8e4a028"
      },
      "outputs": [
        {
          "output_type": "execute_result",
          "data": {
            "text/plain": [
              "              ds     y\n",
              "11569 2015-01-04  1.75\n",
              "11829 2015-01-04  1.46\n",
              "11777 2015-01-04  1.70\n",
              "675   2015-01-04  0.99\n",
              "1247  2015-01-04  0.92\n",
              "...          ...   ...\n",
              "8670  2018-03-25  1.21\n",
              "17997 2018-03-25  1.52\n",
              "17733 2018-03-25  1.46\n",
              "8706  2018-03-25  1.05\n",
              "8814  2018-03-25  1.34\n",
              "\n",
              "[18249 rows x 2 columns]"
            ],
            "text/html": [
              "\n",
              "  <div id=\"df-1c0908fb-e412-4ff5-a45e-cd9771d5d408\">\n",
              "    <div class=\"colab-df-container\">\n",
              "      <div>\n",
              "<style scoped>\n",
              "    .dataframe tbody tr th:only-of-type {\n",
              "        vertical-align: middle;\n",
              "    }\n",
              "\n",
              "    .dataframe tbody tr th {\n",
              "        vertical-align: top;\n",
              "    }\n",
              "\n",
              "    .dataframe thead th {\n",
              "        text-align: right;\n",
              "    }\n",
              "</style>\n",
              "<table border=\"1\" class=\"dataframe\">\n",
              "  <thead>\n",
              "    <tr style=\"text-align: right;\">\n",
              "      <th></th>\n",
              "      <th>ds</th>\n",
              "      <th>y</th>\n",
              "    </tr>\n",
              "  </thead>\n",
              "  <tbody>\n",
              "    <tr>\n",
              "      <th>11569</th>\n",
              "      <td>2015-01-04</td>\n",
              "      <td>1.75</td>\n",
              "    </tr>\n",
              "    <tr>\n",
              "      <th>11829</th>\n",
              "      <td>2015-01-04</td>\n",
              "      <td>1.46</td>\n",
              "    </tr>\n",
              "    <tr>\n",
              "      <th>11777</th>\n",
              "      <td>2015-01-04</td>\n",
              "      <td>1.70</td>\n",
              "    </tr>\n",
              "    <tr>\n",
              "      <th>675</th>\n",
              "      <td>2015-01-04</td>\n",
              "      <td>0.99</td>\n",
              "    </tr>\n",
              "    <tr>\n",
              "      <th>1247</th>\n",
              "      <td>2015-01-04</td>\n",
              "      <td>0.92</td>\n",
              "    </tr>\n",
              "    <tr>\n",
              "      <th>...</th>\n",
              "      <td>...</td>\n",
              "      <td>...</td>\n",
              "    </tr>\n",
              "    <tr>\n",
              "      <th>8670</th>\n",
              "      <td>2018-03-25</td>\n",
              "      <td>1.21</td>\n",
              "    </tr>\n",
              "    <tr>\n",
              "      <th>17997</th>\n",
              "      <td>2018-03-25</td>\n",
              "      <td>1.52</td>\n",
              "    </tr>\n",
              "    <tr>\n",
              "      <th>17733</th>\n",
              "      <td>2018-03-25</td>\n",
              "      <td>1.46</td>\n",
              "    </tr>\n",
              "    <tr>\n",
              "      <th>8706</th>\n",
              "      <td>2018-03-25</td>\n",
              "      <td>1.05</td>\n",
              "    </tr>\n",
              "    <tr>\n",
              "      <th>8814</th>\n",
              "      <td>2018-03-25</td>\n",
              "      <td>1.34</td>\n",
              "    </tr>\n",
              "  </tbody>\n",
              "</table>\n",
              "<p>18249 rows × 2 columns</p>\n",
              "</div>\n",
              "      <button class=\"colab-df-convert\" onclick=\"convertToInteractive('df-1c0908fb-e412-4ff5-a45e-cd9771d5d408')\"\n",
              "              title=\"Convert this dataframe to an interactive table.\"\n",
              "              style=\"display:none;\">\n",
              "        \n",
              "  <svg xmlns=\"http://www.w3.org/2000/svg\" height=\"24px\"viewBox=\"0 0 24 24\"\n",
              "       width=\"24px\">\n",
              "    <path d=\"M0 0h24v24H0V0z\" fill=\"none\"/>\n",
              "    <path d=\"M18.56 5.44l.94 2.06.94-2.06 2.06-.94-2.06-.94-.94-2.06-.94 2.06-2.06.94zm-11 1L8.5 8.5l.94-2.06 2.06-.94-2.06-.94L8.5 2.5l-.94 2.06-2.06.94zm10 10l.94 2.06.94-2.06 2.06-.94-2.06-.94-.94-2.06-.94 2.06-2.06.94z\"/><path d=\"M17.41 7.96l-1.37-1.37c-.4-.4-.92-.59-1.43-.59-.52 0-1.04.2-1.43.59L10.3 9.45l-7.72 7.72c-.78.78-.78 2.05 0 2.83L4 21.41c.39.39.9.59 1.41.59.51 0 1.02-.2 1.41-.59l7.78-7.78 2.81-2.81c.8-.78.8-2.07 0-2.86zM5.41 20L4 18.59l7.72-7.72 1.47 1.35L5.41 20z\"/>\n",
              "  </svg>\n",
              "      </button>\n",
              "      \n",
              "  <style>\n",
              "    .colab-df-container {\n",
              "      display:flex;\n",
              "      flex-wrap:wrap;\n",
              "      gap: 12px;\n",
              "    }\n",
              "\n",
              "    .colab-df-convert {\n",
              "      background-color: #E8F0FE;\n",
              "      border: none;\n",
              "      border-radius: 50%;\n",
              "      cursor: pointer;\n",
              "      display: none;\n",
              "      fill: #1967D2;\n",
              "      height: 32px;\n",
              "      padding: 0 0 0 0;\n",
              "      width: 32px;\n",
              "    }\n",
              "\n",
              "    .colab-df-convert:hover {\n",
              "      background-color: #E2EBFA;\n",
              "      box-shadow: 0px 1px 2px rgba(60, 64, 67, 0.3), 0px 1px 3px 1px rgba(60, 64, 67, 0.15);\n",
              "      fill: #174EA6;\n",
              "    }\n",
              "\n",
              "    [theme=dark] .colab-df-convert {\n",
              "      background-color: #3B4455;\n",
              "      fill: #D2E3FC;\n",
              "    }\n",
              "\n",
              "    [theme=dark] .colab-df-convert:hover {\n",
              "      background-color: #434B5C;\n",
              "      box-shadow: 0px 1px 3px 1px rgba(0, 0, 0, 0.15);\n",
              "      filter: drop-shadow(0px 1px 2px rgba(0, 0, 0, 0.3));\n",
              "      fill: #FFFFFF;\n",
              "    }\n",
              "  </style>\n",
              "\n",
              "      <script>\n",
              "        const buttonEl =\n",
              "          document.querySelector('#df-1c0908fb-e412-4ff5-a45e-cd9771d5d408 button.colab-df-convert');\n",
              "        buttonEl.style.display =\n",
              "          google.colab.kernel.accessAllowed ? 'block' : 'none';\n",
              "\n",
              "        async function convertToInteractive(key) {\n",
              "          const element = document.querySelector('#df-1c0908fb-e412-4ff5-a45e-cd9771d5d408');\n",
              "          const dataTable =\n",
              "            await google.colab.kernel.invokeFunction('convertToInteractive',\n",
              "                                                     [key], {});\n",
              "          if (!dataTable) return;\n",
              "\n",
              "          const docLinkHtml = 'Like what you see? Visit the ' +\n",
              "            '<a target=\"_blank\" href=https://colab.research.google.com/notebooks/data_table.ipynb>data table notebook</a>'\n",
              "            + ' to learn more about interactive tables.';\n",
              "          element.innerHTML = '';\n",
              "          dataTable['output_type'] = 'display_data';\n",
              "          await google.colab.output.renderOutput(dataTable, element);\n",
              "          const docLink = document.createElement('div');\n",
              "          docLink.innerHTML = docLinkHtml;\n",
              "          element.appendChild(docLink);\n",
              "        }\n",
              "      </script>\n",
              "    </div>\n",
              "  </div>\n",
              "  "
            ]
          },
          "metadata": {},
          "execution_count": 57
        }
      ],
      "source": [
        "datos = aguacates[['Date', 'AveragePrice']]\n",
        "datos = datos.rename(columns={'Date':'ds', 'AveragePrice':'y'})\n",
        "datos = datos.sort_values(by='ds', ascending=True)\n",
        "datos"
      ]
    },
    {
      "cell_type": "markdown",
      "metadata": {
        "id": "NpbjoAcmOmCI"
      },
      "source": [
        "# Creación y ajuste del modelo"
      ]
    },
    {
      "cell_type": "code",
      "execution_count": 62,
      "metadata": {
        "id": "q7ecpGy2OmCI"
      },
      "outputs": [],
      "source": [
        "modelo = prophet.Prophet()"
      ]
    },
    {
      "cell_type": "code",
      "source": [
        "modelo.fit(datos)"
      ],
      "metadata": {
        "colab": {
          "base_uri": "https://localhost:8080/"
        },
        "id": "uQeWeT3Z-58A",
        "outputId": "219026fc-6c57-4981-aab1-0f57546b6900"
      },
      "execution_count": 63,
      "outputs": [
        {
          "output_type": "stream",
          "name": "stderr",
          "text": [
            "INFO:prophet:Disabling weekly seasonality. Run prophet with weekly_seasonality=True to override this.\n",
            "INFO:prophet:Disabling daily seasonality. Run prophet with daily_seasonality=True to override this.\n",
            "DEBUG:cmdstanpy:input tempfile: /tmp/tmpzwia9_yt/dmqqx22w.json\n",
            "DEBUG:cmdstanpy:input tempfile: /tmp/tmpzwia9_yt/8do9405g.json\n",
            "DEBUG:cmdstanpy:idx 0\n",
            "DEBUG:cmdstanpy:running CmdStan, num_threads: None\n",
            "DEBUG:cmdstanpy:CmdStan args: ['/usr/local/lib/python3.7/dist-packages/prophet/stan_model/prophet_model.bin', 'random', 'seed=14625', 'data', 'file=/tmp/tmpzwia9_yt/dmqqx22w.json', 'init=/tmp/tmpzwia9_yt/8do9405g.json', 'output', 'file=/tmp/tmpzwia9_yt/prophet_model8ygd0kx2/prophet_model-20221104191832.csv', 'method=optimize', 'algorithm=lbfgs', 'iter=10000']\n",
            "19:18:32 - cmdstanpy - INFO - Chain [1] start processing\n",
            "INFO:cmdstanpy:Chain [1] start processing\n",
            "19:18:37 - cmdstanpy - INFO - Chain [1] done processing\n",
            "INFO:cmdstanpy:Chain [1] done processing\n"
          ]
        },
        {
          "output_type": "execute_result",
          "data": {
            "text/plain": [
              "<prophet.forecaster.Prophet at 0x7f4998d6cd10>"
            ]
          },
          "metadata": {},
          "execution_count": 63
        }
      ]
    },
    {
      "cell_type": "markdown",
      "metadata": {
        "id": "BF7kVeXGOmCJ"
      },
      "source": [
        "# Pronosticar hacia el futuro un año (365 días)"
      ]
    },
    {
      "cell_type": "code",
      "execution_count": 64,
      "metadata": {
        "id": "-3h8eJIYOmCK",
        "colab": {
          "base_uri": "https://localhost:8080/",
          "height": 661
        },
        "outputId": "afbbd249-0c53-4545-ba9d-9e7805a0d9f6"
      },
      "outputs": [
        {
          "output_type": "execute_result",
          "data": {
            "text/plain": [
              "            ds     trend  yhat_lower  yhat_upper  trend_lower  trend_upper  \\\n",
              "0   2015-01-04  1.500915    0.903308    1.858051     1.500915     1.500915   \n",
              "1   2015-01-11  1.495570    0.942356    1.839029     1.495570     1.495570   \n",
              "2   2015-01-18  1.490226    0.920165    1.843278     1.490226     1.490226   \n",
              "3   2015-01-25  1.484881    0.913950    1.849212     1.484881     1.484881   \n",
              "4   2015-02-01  1.479536    0.864398    1.813186     1.479536     1.479536   \n",
              "..         ...       ...         ...         ...          ...          ...   \n",
              "529 2019-03-21  1.169820    0.563766    1.649841     0.957286     1.382749   \n",
              "530 2019-03-22  1.169100    0.544459    1.604525     0.955735     1.382917   \n",
              "531 2019-03-23  1.168380    0.524487    1.612796     0.954183     1.382999   \n",
              "532 2019-03-24  1.167660    0.553886    1.624601     0.952632     1.382909   \n",
              "533 2019-03-25  1.166940    0.553177    1.621760     0.950937     1.382753   \n",
              "\n",
              "     additive_terms  additive_terms_lower  additive_terms_upper    yearly  \\\n",
              "0         -0.117892             -0.117892             -0.117892 -0.117892   \n",
              "1         -0.109441             -0.109441             -0.109441 -0.109441   \n",
              "2         -0.109017             -0.109017             -0.109017 -0.109017   \n",
              "3         -0.127761             -0.127761             -0.127761 -0.127761   \n",
              "4         -0.155746             -0.155746             -0.155746 -0.155746   \n",
              "..              ...                   ...                   ...       ...   \n",
              "529       -0.086478             -0.086478             -0.086478 -0.086478   \n",
              "530       -0.084675             -0.084675             -0.084675 -0.084675   \n",
              "531       -0.082592             -0.082592             -0.082592 -0.082592   \n",
              "532       -0.080251             -0.080251             -0.080251 -0.080251   \n",
              "533       -0.077678             -0.077678             -0.077678 -0.077678   \n",
              "\n",
              "     yearly_lower  yearly_upper  multiplicative_terms  \\\n",
              "0       -0.117892     -0.117892                   0.0   \n",
              "1       -0.109441     -0.109441                   0.0   \n",
              "2       -0.109017     -0.109017                   0.0   \n",
              "3       -0.127761     -0.127761                   0.0   \n",
              "4       -0.155746     -0.155746                   0.0   \n",
              "..            ...           ...                   ...   \n",
              "529     -0.086478     -0.086478                   0.0   \n",
              "530     -0.084675     -0.084675                   0.0   \n",
              "531     -0.082592     -0.082592                   0.0   \n",
              "532     -0.080251     -0.080251                   0.0   \n",
              "533     -0.077678     -0.077678                   0.0   \n",
              "\n",
              "     multiplicative_terms_lower  multiplicative_terms_upper      yhat  \n",
              "0                           0.0                         0.0  1.383023  \n",
              "1                           0.0                         0.0  1.386129  \n",
              "2                           0.0                         0.0  1.381208  \n",
              "3                           0.0                         0.0  1.357119  \n",
              "4                           0.0                         0.0  1.323790  \n",
              "..                          ...                         ...       ...  \n",
              "529                         0.0                         0.0  1.083342  \n",
              "530                         0.0                         0.0  1.084425  \n",
              "531                         0.0                         0.0  1.085788  \n",
              "532                         0.0                         0.0  1.087410  \n",
              "533                         0.0                         0.0  1.089262  \n",
              "\n",
              "[534 rows x 16 columns]"
            ],
            "text/html": [
              "\n",
              "  <div id=\"df-f1972e0e-5104-4f0d-bdfd-ab448434d291\">\n",
              "    <div class=\"colab-df-container\">\n",
              "      <div>\n",
              "<style scoped>\n",
              "    .dataframe tbody tr th:only-of-type {\n",
              "        vertical-align: middle;\n",
              "    }\n",
              "\n",
              "    .dataframe tbody tr th {\n",
              "        vertical-align: top;\n",
              "    }\n",
              "\n",
              "    .dataframe thead th {\n",
              "        text-align: right;\n",
              "    }\n",
              "</style>\n",
              "<table border=\"1\" class=\"dataframe\">\n",
              "  <thead>\n",
              "    <tr style=\"text-align: right;\">\n",
              "      <th></th>\n",
              "      <th>ds</th>\n",
              "      <th>trend</th>\n",
              "      <th>yhat_lower</th>\n",
              "      <th>yhat_upper</th>\n",
              "      <th>trend_lower</th>\n",
              "      <th>trend_upper</th>\n",
              "      <th>additive_terms</th>\n",
              "      <th>additive_terms_lower</th>\n",
              "      <th>additive_terms_upper</th>\n",
              "      <th>yearly</th>\n",
              "      <th>yearly_lower</th>\n",
              "      <th>yearly_upper</th>\n",
              "      <th>multiplicative_terms</th>\n",
              "      <th>multiplicative_terms_lower</th>\n",
              "      <th>multiplicative_terms_upper</th>\n",
              "      <th>yhat</th>\n",
              "    </tr>\n",
              "  </thead>\n",
              "  <tbody>\n",
              "    <tr>\n",
              "      <th>0</th>\n",
              "      <td>2015-01-04</td>\n",
              "      <td>1.500915</td>\n",
              "      <td>0.903308</td>\n",
              "      <td>1.858051</td>\n",
              "      <td>1.500915</td>\n",
              "      <td>1.500915</td>\n",
              "      <td>-0.117892</td>\n",
              "      <td>-0.117892</td>\n",
              "      <td>-0.117892</td>\n",
              "      <td>-0.117892</td>\n",
              "      <td>-0.117892</td>\n",
              "      <td>-0.117892</td>\n",
              "      <td>0.0</td>\n",
              "      <td>0.0</td>\n",
              "      <td>0.0</td>\n",
              "      <td>1.383023</td>\n",
              "    </tr>\n",
              "    <tr>\n",
              "      <th>1</th>\n",
              "      <td>2015-01-11</td>\n",
              "      <td>1.495570</td>\n",
              "      <td>0.942356</td>\n",
              "      <td>1.839029</td>\n",
              "      <td>1.495570</td>\n",
              "      <td>1.495570</td>\n",
              "      <td>-0.109441</td>\n",
              "      <td>-0.109441</td>\n",
              "      <td>-0.109441</td>\n",
              "      <td>-0.109441</td>\n",
              "      <td>-0.109441</td>\n",
              "      <td>-0.109441</td>\n",
              "      <td>0.0</td>\n",
              "      <td>0.0</td>\n",
              "      <td>0.0</td>\n",
              "      <td>1.386129</td>\n",
              "    </tr>\n",
              "    <tr>\n",
              "      <th>2</th>\n",
              "      <td>2015-01-18</td>\n",
              "      <td>1.490226</td>\n",
              "      <td>0.920165</td>\n",
              "      <td>1.843278</td>\n",
              "      <td>1.490226</td>\n",
              "      <td>1.490226</td>\n",
              "      <td>-0.109017</td>\n",
              "      <td>-0.109017</td>\n",
              "      <td>-0.109017</td>\n",
              "      <td>-0.109017</td>\n",
              "      <td>-0.109017</td>\n",
              "      <td>-0.109017</td>\n",
              "      <td>0.0</td>\n",
              "      <td>0.0</td>\n",
              "      <td>0.0</td>\n",
              "      <td>1.381208</td>\n",
              "    </tr>\n",
              "    <tr>\n",
              "      <th>3</th>\n",
              "      <td>2015-01-25</td>\n",
              "      <td>1.484881</td>\n",
              "      <td>0.913950</td>\n",
              "      <td>1.849212</td>\n",
              "      <td>1.484881</td>\n",
              "      <td>1.484881</td>\n",
              "      <td>-0.127761</td>\n",
              "      <td>-0.127761</td>\n",
              "      <td>-0.127761</td>\n",
              "      <td>-0.127761</td>\n",
              "      <td>-0.127761</td>\n",
              "      <td>-0.127761</td>\n",
              "      <td>0.0</td>\n",
              "      <td>0.0</td>\n",
              "      <td>0.0</td>\n",
              "      <td>1.357119</td>\n",
              "    </tr>\n",
              "    <tr>\n",
              "      <th>4</th>\n",
              "      <td>2015-02-01</td>\n",
              "      <td>1.479536</td>\n",
              "      <td>0.864398</td>\n",
              "      <td>1.813186</td>\n",
              "      <td>1.479536</td>\n",
              "      <td>1.479536</td>\n",
              "      <td>-0.155746</td>\n",
              "      <td>-0.155746</td>\n",
              "      <td>-0.155746</td>\n",
              "      <td>-0.155746</td>\n",
              "      <td>-0.155746</td>\n",
              "      <td>-0.155746</td>\n",
              "      <td>0.0</td>\n",
              "      <td>0.0</td>\n",
              "      <td>0.0</td>\n",
              "      <td>1.323790</td>\n",
              "    </tr>\n",
              "    <tr>\n",
              "      <th>...</th>\n",
              "      <td>...</td>\n",
              "      <td>...</td>\n",
              "      <td>...</td>\n",
              "      <td>...</td>\n",
              "      <td>...</td>\n",
              "      <td>...</td>\n",
              "      <td>...</td>\n",
              "      <td>...</td>\n",
              "      <td>...</td>\n",
              "      <td>...</td>\n",
              "      <td>...</td>\n",
              "      <td>...</td>\n",
              "      <td>...</td>\n",
              "      <td>...</td>\n",
              "      <td>...</td>\n",
              "      <td>...</td>\n",
              "    </tr>\n",
              "    <tr>\n",
              "      <th>529</th>\n",
              "      <td>2019-03-21</td>\n",
              "      <td>1.169820</td>\n",
              "      <td>0.563766</td>\n",
              "      <td>1.649841</td>\n",
              "      <td>0.957286</td>\n",
              "      <td>1.382749</td>\n",
              "      <td>-0.086478</td>\n",
              "      <td>-0.086478</td>\n",
              "      <td>-0.086478</td>\n",
              "      <td>-0.086478</td>\n",
              "      <td>-0.086478</td>\n",
              "      <td>-0.086478</td>\n",
              "      <td>0.0</td>\n",
              "      <td>0.0</td>\n",
              "      <td>0.0</td>\n",
              "      <td>1.083342</td>\n",
              "    </tr>\n",
              "    <tr>\n",
              "      <th>530</th>\n",
              "      <td>2019-03-22</td>\n",
              "      <td>1.169100</td>\n",
              "      <td>0.544459</td>\n",
              "      <td>1.604525</td>\n",
              "      <td>0.955735</td>\n",
              "      <td>1.382917</td>\n",
              "      <td>-0.084675</td>\n",
              "      <td>-0.084675</td>\n",
              "      <td>-0.084675</td>\n",
              "      <td>-0.084675</td>\n",
              "      <td>-0.084675</td>\n",
              "      <td>-0.084675</td>\n",
              "      <td>0.0</td>\n",
              "      <td>0.0</td>\n",
              "      <td>0.0</td>\n",
              "      <td>1.084425</td>\n",
              "    </tr>\n",
              "    <tr>\n",
              "      <th>531</th>\n",
              "      <td>2019-03-23</td>\n",
              "      <td>1.168380</td>\n",
              "      <td>0.524487</td>\n",
              "      <td>1.612796</td>\n",
              "      <td>0.954183</td>\n",
              "      <td>1.382999</td>\n",
              "      <td>-0.082592</td>\n",
              "      <td>-0.082592</td>\n",
              "      <td>-0.082592</td>\n",
              "      <td>-0.082592</td>\n",
              "      <td>-0.082592</td>\n",
              "      <td>-0.082592</td>\n",
              "      <td>0.0</td>\n",
              "      <td>0.0</td>\n",
              "      <td>0.0</td>\n",
              "      <td>1.085788</td>\n",
              "    </tr>\n",
              "    <tr>\n",
              "      <th>532</th>\n",
              "      <td>2019-03-24</td>\n",
              "      <td>1.167660</td>\n",
              "      <td>0.553886</td>\n",
              "      <td>1.624601</td>\n",
              "      <td>0.952632</td>\n",
              "      <td>1.382909</td>\n",
              "      <td>-0.080251</td>\n",
              "      <td>-0.080251</td>\n",
              "      <td>-0.080251</td>\n",
              "      <td>-0.080251</td>\n",
              "      <td>-0.080251</td>\n",
              "      <td>-0.080251</td>\n",
              "      <td>0.0</td>\n",
              "      <td>0.0</td>\n",
              "      <td>0.0</td>\n",
              "      <td>1.087410</td>\n",
              "    </tr>\n",
              "    <tr>\n",
              "      <th>533</th>\n",
              "      <td>2019-03-25</td>\n",
              "      <td>1.166940</td>\n",
              "      <td>0.553177</td>\n",
              "      <td>1.621760</td>\n",
              "      <td>0.950937</td>\n",
              "      <td>1.382753</td>\n",
              "      <td>-0.077678</td>\n",
              "      <td>-0.077678</td>\n",
              "      <td>-0.077678</td>\n",
              "      <td>-0.077678</td>\n",
              "      <td>-0.077678</td>\n",
              "      <td>-0.077678</td>\n",
              "      <td>0.0</td>\n",
              "      <td>0.0</td>\n",
              "      <td>0.0</td>\n",
              "      <td>1.089262</td>\n",
              "    </tr>\n",
              "  </tbody>\n",
              "</table>\n",
              "<p>534 rows × 16 columns</p>\n",
              "</div>\n",
              "      <button class=\"colab-df-convert\" onclick=\"convertToInteractive('df-f1972e0e-5104-4f0d-bdfd-ab448434d291')\"\n",
              "              title=\"Convert this dataframe to an interactive table.\"\n",
              "              style=\"display:none;\">\n",
              "        \n",
              "  <svg xmlns=\"http://www.w3.org/2000/svg\" height=\"24px\"viewBox=\"0 0 24 24\"\n",
              "       width=\"24px\">\n",
              "    <path d=\"M0 0h24v24H0V0z\" fill=\"none\"/>\n",
              "    <path d=\"M18.56 5.44l.94 2.06.94-2.06 2.06-.94-2.06-.94-.94-2.06-.94 2.06-2.06.94zm-11 1L8.5 8.5l.94-2.06 2.06-.94-2.06-.94L8.5 2.5l-.94 2.06-2.06.94zm10 10l.94 2.06.94-2.06 2.06-.94-2.06-.94-.94-2.06-.94 2.06-2.06.94z\"/><path d=\"M17.41 7.96l-1.37-1.37c-.4-.4-.92-.59-1.43-.59-.52 0-1.04.2-1.43.59L10.3 9.45l-7.72 7.72c-.78.78-.78 2.05 0 2.83L4 21.41c.39.39.9.59 1.41.59.51 0 1.02-.2 1.41-.59l7.78-7.78 2.81-2.81c.8-.78.8-2.07 0-2.86zM5.41 20L4 18.59l7.72-7.72 1.47 1.35L5.41 20z\"/>\n",
              "  </svg>\n",
              "      </button>\n",
              "      \n",
              "  <style>\n",
              "    .colab-df-container {\n",
              "      display:flex;\n",
              "      flex-wrap:wrap;\n",
              "      gap: 12px;\n",
              "    }\n",
              "\n",
              "    .colab-df-convert {\n",
              "      background-color: #E8F0FE;\n",
              "      border: none;\n",
              "      border-radius: 50%;\n",
              "      cursor: pointer;\n",
              "      display: none;\n",
              "      fill: #1967D2;\n",
              "      height: 32px;\n",
              "      padding: 0 0 0 0;\n",
              "      width: 32px;\n",
              "    }\n",
              "\n",
              "    .colab-df-convert:hover {\n",
              "      background-color: #E2EBFA;\n",
              "      box-shadow: 0px 1px 2px rgba(60, 64, 67, 0.3), 0px 1px 3px 1px rgba(60, 64, 67, 0.15);\n",
              "      fill: #174EA6;\n",
              "    }\n",
              "\n",
              "    [theme=dark] .colab-df-convert {\n",
              "      background-color: #3B4455;\n",
              "      fill: #D2E3FC;\n",
              "    }\n",
              "\n",
              "    [theme=dark] .colab-df-convert:hover {\n",
              "      background-color: #434B5C;\n",
              "      box-shadow: 0px 1px 3px 1px rgba(0, 0, 0, 0.15);\n",
              "      filter: drop-shadow(0px 1px 2px rgba(0, 0, 0, 0.3));\n",
              "      fill: #FFFFFF;\n",
              "    }\n",
              "  </style>\n",
              "\n",
              "      <script>\n",
              "        const buttonEl =\n",
              "          document.querySelector('#df-f1972e0e-5104-4f0d-bdfd-ab448434d291 button.colab-df-convert');\n",
              "        buttonEl.style.display =\n",
              "          google.colab.kernel.accessAllowed ? 'block' : 'none';\n",
              "\n",
              "        async function convertToInteractive(key) {\n",
              "          const element = document.querySelector('#df-f1972e0e-5104-4f0d-bdfd-ab448434d291');\n",
              "          const dataTable =\n",
              "            await google.colab.kernel.invokeFunction('convertToInteractive',\n",
              "                                                     [key], {});\n",
              "          if (!dataTable) return;\n",
              "\n",
              "          const docLinkHtml = 'Like what you see? Visit the ' +\n",
              "            '<a target=\"_blank\" href=https://colab.research.google.com/notebooks/data_table.ipynb>data table notebook</a>'\n",
              "            + ' to learn more about interactive tables.';\n",
              "          element.innerHTML = '';\n",
              "          dataTable['output_type'] = 'display_data';\n",
              "          await google.colab.output.renderOutput(dataTable, element);\n",
              "          const docLink = document.createElement('div');\n",
              "          docLink.innerHTML = docLinkHtml;\n",
              "          element.appendChild(docLink);\n",
              "        }\n",
              "      </script>\n",
              "    </div>\n",
              "  </div>\n",
              "  "
            ]
          },
          "metadata": {},
          "execution_count": 64
        }
      ],
      "source": [
        "prediccion = modelo.predict(modelo.make_future_dataframe(periods=365))\n",
        "prediccion"
      ]
    },
    {
      "cell_type": "markdown",
      "metadata": {
        "id": "fBSgIET0OmCK"
      },
      "source": [
        "# Graficar los datos históricos y los del futuro"
      ]
    },
    {
      "cell_type": "code",
      "execution_count": null,
      "metadata": {
        "id": "CJ-H9bMaOmCL"
      },
      "outputs": [],
      "source": []
    },
    {
      "cell_type": "markdown",
      "metadata": {
        "id": "6ifdLJAyOmCL"
      },
      "source": [
        "# Graficar los componentes del pronóstico"
      ]
    },
    {
      "cell_type": "code",
      "execution_count": null,
      "metadata": {
        "id": "xIL3VzAdOmCM"
      },
      "outputs": [],
      "source": []
    },
    {
      "cell_type": "markdown",
      "metadata": {
        "id": "tfZNlLRROmCM"
      },
      "source": [
        "# PARTE 2\n",
        "\n",
        "### Repetir el ejercicio pero solo con la región oeste \"West\" de los EEUU"
      ]
    },
    {
      "cell_type": "markdown",
      "metadata": {
        "id": "OaGPAeqcOmCM"
      },
      "source": [
        "### Leer el archivo de datos"
      ]
    },
    {
      "cell_type": "code",
      "execution_count": null,
      "metadata": {
        "id": "Hfxa1oZDOmCN"
      },
      "outputs": [],
      "source": []
    },
    {
      "cell_type": "code",
      "execution_count": null,
      "metadata": {
        "id": "q4ffcC_wOmCN"
      },
      "outputs": [],
      "source": []
    },
    {
      "cell_type": "markdown",
      "metadata": {
        "id": "ORz_OLnmOmCO"
      },
      "source": [
        "### Por si acaso no están ordenadas las observaciones"
      ]
    },
    {
      "cell_type": "code",
      "execution_count": null,
      "metadata": {
        "id": "ea38HoUBOmCP"
      },
      "outputs": [],
      "source": []
    },
    {
      "cell_type": "markdown",
      "metadata": {
        "id": "pJ4-HAahOmCP"
      },
      "source": [
        "# Graficar el precio promedio vs fecha\n",
        "\n",
        "### ¿Es diferente la tendencia comparado a la tendencia nacional?"
      ]
    },
    {
      "cell_type": "code",
      "execution_count": null,
      "metadata": {
        "id": "pBw1y1aVOmCP"
      },
      "outputs": [],
      "source": []
    },
    {
      "cell_type": "markdown",
      "metadata": {
        "id": "eKLOsu2iOmCQ"
      },
      "source": [
        "# Crear el modelo y ajustarlo con los datos"
      ]
    },
    {
      "cell_type": "markdown",
      "metadata": {
        "id": "xNc0kSCnOmCQ"
      },
      "source": [
        "### Preparar los datos para que sean aceptados por el modelo a usar"
      ]
    },
    {
      "cell_type": "code",
      "execution_count": null,
      "metadata": {
        "id": "LllATTPJOmCQ"
      },
      "outputs": [],
      "source": []
    },
    {
      "cell_type": "code",
      "execution_count": null,
      "metadata": {
        "id": "y1RtCzEpOmCR"
      },
      "outputs": [],
      "source": []
    },
    {
      "cell_type": "markdown",
      "metadata": {
        "id": "o5qkKdHHOmCR"
      },
      "source": [
        "# Pronosticar al futuro un año (365 días)"
      ]
    },
    {
      "cell_type": "code",
      "execution_count": null,
      "metadata": {
        "id": "WOZ5oOxNOmCS"
      },
      "outputs": [],
      "source": []
    },
    {
      "cell_type": "markdown",
      "metadata": {
        "id": "z7Gx0D3UOmCS"
      },
      "source": [
        "# Graficar datos históricos y pronosticados"
      ]
    },
    {
      "cell_type": "code",
      "execution_count": null,
      "metadata": {
        "id": "nKxieRbJOmCT"
      },
      "outputs": [],
      "source": []
    },
    {
      "cell_type": "code",
      "execution_count": null,
      "metadata": {
        "id": "0wP1aB7dOmCU"
      },
      "outputs": [],
      "source": []
    },
    {
      "cell_type": "code",
      "execution_count": null,
      "metadata": {
        "id": "tznk05dgOmCU"
      },
      "outputs": [],
      "source": []
    }
  ],
  "metadata": {
    "kernelspec": {
      "display_name": "Python 3 (ipykernel)",
      "language": "python",
      "name": "python3"
    },
    "language_info": {
      "codemirror_mode": {
        "name": "ipython",
        "version": 3
      },
      "file_extension": ".py",
      "mimetype": "text/x-python",
      "name": "python",
      "nbconvert_exporter": "python",
      "pygments_lexer": "ipython3",
      "version": "3.8.13"
    },
    "varInspector": {
      "cols": {
        "lenName": 16,
        "lenType": 16,
        "lenVar": 40
      },
      "kernels_config": {
        "python": {
          "delete_cmd_postfix": "",
          "delete_cmd_prefix": "del ",
          "library": "var_list.py",
          "varRefreshCmd": "print(var_dic_list())"
        },
        "r": {
          "delete_cmd_postfix": ") ",
          "delete_cmd_prefix": "rm(",
          "library": "var_list.r",
          "varRefreshCmd": "cat(var_dic_list()) "
        }
      },
      "types_to_exclude": [
        "module",
        "function",
        "builtin_function_or_method",
        "instance",
        "_Feature"
      ],
      "window_display": false
    },
    "colab": {
      "provenance": [],
      "include_colab_link": true
    }
  },
  "nbformat": 4,
  "nbformat_minor": 0
}